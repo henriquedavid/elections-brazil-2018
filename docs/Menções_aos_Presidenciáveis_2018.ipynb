{
 "cells": [
  {
   "cell_type": "markdown",
   "metadata": {
    "colab_type": "text",
    "id": "CMtirLcry9-m"
   },
   "source": [
    "# Análise das Menções aos Presidenciáveis 2018\n",
    "\n",
    "As eleições já começaram e com elas os debates já estão começando de forma fervorosa. No dia 09/08/2018 ocorreu o primeiro debate, transmitido pelo canal de televisão BAND e pelo Youtube.\n",
    "\n",
    "O debate foi marcado por vários memes, dentre eles um destaque ao candidato Daciolo (Patriota), o qual denuncia uma nova Ordem Mundial e a volta do voto em papel. Além desses momentos especificos, os candidatos a presidencia tentam convencer o eleitor, porém só tentaram.\n",
    "\n",
    "Essa projeto tem como intuito analisar o andamento das eleições até o dia de votação. Assim, uma semana após os debates será realizada uma análise sobre as menções de cada presidente pelo Twitter.\n",
    "\n",
    "O propósito é verificar se o Twitter é capaz de prever a candidatura de algum candidato, de forma a definir a influência das pessoas via rede social.\n",
    "\n",
    "### Porque o Twitter?\n",
    "\n",
    "Todas as redes sociais possuem focos específicos, como o Instagram que é para fotos e Snapchat para compartilhamento de momentos. Porém dentre todas elas, o Twitter se destaca por seus usuários comentarem grandes momentos, principalmente no Brasil, o qual faz com que os brasileiros sejam um das nacionalidades mais ativas na rede social.\n",
    "\n",
    "### Como são filtradas as menções?\n",
    "\n",
    "Os dados são obtidos apenas como menções, não levando em consideração o teor das mensagens. Ou seja, um usuário pode estar criticando determinado candidato, mas a análise apenas verifica se ele foi citado.\n",
    "\n",
    "### Sobre a pesquisa\n",
    "\n",
    "A pesquisa foi realizada com a análise de 67.979 menções do Twitter aos candidatos de forma direta (nome), sem marcações ( @nome ). A escolha se devem ao fato do processamento necessário para tratar mais dados, aproximando em mais de 128 MB de dados e 3 horas de processamento.\n",
    "\n",
    "### Apuração dos dados\n",
    "\n",
    "Os dados são obtidos e analisados após descorrer 7 dias após os debates.\n",
    "\n",
    "\n",
    "## Análise após o 1º Debate\n",
    "\n",
    "A pesquisa é realizada com base do primeiro debate realizado, na BAND. A pesquisa é relacionada aos últimos 7 dias após o debate.\n"
   ]
  },
  {
   "cell_type": "markdown",
   "metadata": {
    "colab_type": "text",
    "id": "eEWik3pwgS1b"
   },
   "source": [
    "![Menções a partir do dia 18/08/2018](https://lh3.googleusercontent.com/3uk07q7gqboe_lA4vtGLlb_YZVcZbe56rE5fHoKgId-gkA5aVH9ejjq-oFssBbn-5UMIcD-cku_el8RgTHUY=w1366-h662)\n",
    "\n",
    "Gráfico 01 - Quantidade de menções no período de 09/08/2018 - 18/08/2018 - \n",
    "*Pesquisa realizada com 67979 dados de usuários.*"
   ]
  },
  {
   "cell_type": "markdown",
   "metadata": {
    "colab_type": "text",
    "id": "Ph5izoJyhBr_"
   },
   "source": [
    "No gráfico acima é possível perceber que o candidato que possui a maior quantidade de menções é o atual candidato **Jair Bolsonaro (PSL)**, resultando em 31172 menções, o qual em entrevistas anteriores foi bastante criticado por causa de suas ideias e ações, no qual pode ter influênciado a quantidade de vezes que ele é citado. *Lembrando que não há filtro de comentários positivos ou negativos sobre os candidatos.*\n",
    "\n",
    "Em segundo lugar, encontra-se o ex-Presidente **Lula (PT)**, com 15467 menções, em que mesmo não participando do debate por motivos jurídicos houve uma grande quantidade de menções. É importante enfatizar que o partido do candidato - PT - transmitiu em seus canais oficiais uma live durante o debate, já que o partido foi impossibilitado pela rede de televisão Bandeirantes de ter o vice no lugar do candidato.  Assim, dependendo das outras redes de televisões pode haver do candidato do PT conseguir se recuperar participando dos debates.\n",
    "\n",
    "A candidata **Marina Silva (Rede)**, 10165 menções, está tentando pela 3ª vez se candidatar a presidência, mas para isso tem que conseguir competir com os outros dois primeiros candidatos que ocupam o Top 3. Apesar de próxima do candidato do PT, a candidata é duramente criticada por seus projetos, já que grande parte da população não aprovam eles. Em um cenário de segundo turno usando com base o gráfico, a candidata pode ficar tranquila em fazer parte, já que o quarto lugar está longe de poder concorrer com ela.\n",
    "\n",
    "O gráfico em grande parte se resume aos 3 candidatos acima, já que os outros candidatos se posicionam da seguinte maneira: o candidato **Ciro Gomes (PDT)** está em 4º lugar (com 3463), **Guilherme Boulos (PSol)** em 5º lugar (com 2420),  **Cabo Daciolo (Patriota)**\n",
    "com o 6º lugar (1526),  **Geraldo Alckmin (PSDB)** em 7º lugar (1499), enquanto segurando a lanterna no 8º e 9º lugar temos os candidatos: **Henrique Meirelles (MDB)** (91) e **Alvaro Dias (Podemos)** (68), respectivamente.\n",
    "\n",
    "É importante esclarecer que as menções ao candidato do Patriota, **Cabo Daciolo**,  não refletem na quantidade de menções apoiando sua candidatura, já que para abrir com chave de ouro o debate, o candidato provou que o brasileiro realmente é uma fábrica de memes.\n",
    "\n",
    "\n",
    "## Análise do 2º Debate\n",
    "\n",
    "#### Em breve (23/08/2018)"
   ]
  },
  {
   "cell_type": "markdown",
   "metadata": {
    "colab_type": "text",
    "id": "Ie1vApgsni3A"
   },
   "source": [
    "---\n",
    "\n",
    "\n",
    "Henrique David de Medeiros - henriquemed101@gmail.com\n",
    "\n",
    "##### Fonte dos dados: Twitter"
   ]
  },
  {
   "cell_type": "code",
   "execution_count": null,
   "metadata": {},
   "outputs": [],
   "source": []
  }
 ],
 "metadata": {
  "colab": {
   "collapsed_sections": [],
   "include_colab_link": true,
   "name": "Menções aos Presidenciáveis 2018.ipynb",
   "provenance": [],
   "version": "0.3.2"
  },
  "kernelspec": {
   "display_name": "Python 3",
   "language": "python",
   "name": "python3"
  },
  "language_info": {
   "codemirror_mode": {
    "name": "ipython",
    "version": 3
   },
   "file_extension": ".py",
   "mimetype": "text/x-python",
   "name": "python",
   "nbconvert_exporter": "python",
   "pygments_lexer": "ipython3",
   "version": "3.6.4"
  }
 },
 "nbformat": 4,
 "nbformat_minor": 1
}
