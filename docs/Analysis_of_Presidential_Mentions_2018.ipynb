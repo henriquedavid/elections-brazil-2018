{
 "cells": [
  {
   "cell_type": "markdown",
   "metadata": {
    "colab_type": "text",
    "id": "TzeEsf9p9YGJ"
   },
   "source": [
    "# Analysis of Presidential Mentions 2018\n",
    "\n",
    "\n",
    "The elections have already begun and with them, the debates are already beginning fervently. On 08/08/2018 the first debate took place, broadcast on the BAND television channel and on YouTube.\n",
    "\n",
    "The debate was marked by several memes, among them a highlight to the candidate Daciolo (Patriota), who denounces a new \"World Order\" and the return of the vote on paper. In addition to these specific moments, the presidential candidates try to convince the voter but only tried.\n",
    "\n",
    "This project aims to analyze the progress of the elections until voting day. Thus, a week after the debates will be carried out an analysis on the mentions of each president by Twitter.\n",
    "\n",
    "The purpose is to verify if Twitter is able to predict the candidacy of any candidate, in order to define the influence of people in the social network.\n",
    "\n",
    "### Why Twitter?\n",
    "All social networks have specific focuses, such as Instagram that is for photos and Snapchat for \"moment sharing\". But among all of them, Twitter stands out because its users comment on great moments, especially in Brazil, which makes Brazilians one of the most active nationalities in the social network.\n",
    "\n",
    "### How are the mentions filtered?\n",
    "The data are only obtained as mentions, not taking into account the content of the messages. That is, a user may be criticizing a particular candidate, but the analysis only checks if he has been quoted.\n",
    "\n",
    "### About the search\n",
    "The survey was carried out with the analysis of 67,979 mentions of Twitter with the candidates in a direct form (name), without markings (@nome). The choice is due to the fact of processing required to handle more data, approaching in more than 128 MB of data and 3 hours of processing.\n",
    "\n",
    "### Determination of data\n",
    "The data are obtained and analyzed after 7 days after the discussions.\n",
    "\n",
    "\n",
    "## Analysis after the 1st Debate\n",
    "The research is carried out based on the first debate held at BAND. The survey is related to the last 7 days after the discussion.\n",
    "\n",
    "![Mentions until 18/08/2018](https://lh6.googleusercontent.com/9TN76akdwnuE1m2Q3Hsljx0n3eQ48Th20gQXNgYu9gCLFx1KO3HzICSG8bzLdS_Iwk81jbcZb79EdXCnOv4t=w1366-h662)\n",
    "\n",
    "Graphic 1 - Count of mentions between 09/08/2018 and 18/08/2018 - Search using 67.979 data. \n",
    "\n",
    "In the above chart, it is possible to notice that the candidate with the most mentions is the current candidate **Jair Bolsonaro (PSL)**, resulting in 31172 mentions, which in previous interviews was highly criticized because of his ideas and actions, in which he can have influenced the number of times he is quoted. Remembering that there is no filter of positive or negative comments on the candidates.\n",
    "\n",
    "Secondly, there is the former President **Lula (PT)**, with 15467 mentions, in which even not participating in the debate for legal reasons there was a great number of mentions. It is important to emphasize that the party of the candidate - PT - transmitted a live  in official channels during the debate since the party was prevented by the television network Bandeirantes to have the vice instead of the candidate. Thus, depending on the other TV networks, the PT candidate may be able to recover by participating in debates.\n",
    "\n",
    "The candidate **Marina Silva (Rede)**, 10165 mentions, is trying for the 3rd time to run for the presidency, but for this, she has to be able to compete with the other two first candidates that occupy the Top 3. Although next to the PT candidate, the candidate is heavily criticized for her projects, since much of the population does not approve of them. In a second-round scenario based on the chart, the candidate can rest easy in being part, since the fourth place is far from being able to compete with her.\n",
    "\n",
    "The graphic largely rests on the 3 candidates above, since the other candidates stand as follows: candidate **Ciro Gomes (PDT)** is in 4th place (with 3463), **Guilherme Boulos (PSol)** in 5th place (with 2420 ), **'Cabo' Daciolo (Patriota)** with 6th place (1526),  **Geraldo Alckmin (PSDB)** in 7th place (1499), holding the lantern in the 8th and 9th place we have the candidates: **Henrique Meirelles (MDB) (91)** and **Alvaro Dias (Podemos) (68)**, respectively.\n",
    "\n",
    "It is important to clarify that the mentions to the candidate of the Patriota, 'Cabo' Daciolo, don't reflect in the number of mentions supporting his candidacy since to open with a golden key the debate, the candidate proved that the Brazilians are a memes factory.\n",
    "\n",
    "## Analysis of the 2nd Debate\n",
    "Coming soon (08/23/2018)\n",
    "\n",
    "---\n",
    "Henrique David de Medeiros - henriquemed101@gmail.com\n",
    "\n",
    "##### Data Font: Twitter"
   ]
  },
  {
   "cell_type": "code",
   "execution_count": null,
   "metadata": {},
   "outputs": [],
   "source": []
  }
 ],
 "metadata": {
  "colab": {
   "include_colab_link": true,
   "name": "Analysis of Presidential Mentions 2018.ipynb",
   "provenance": [],
   "version": "0.3.2"
  },
  "kernelspec": {
   "display_name": "Python 3",
   "language": "python",
   "name": "python3"
  },
  "language_info": {
   "codemirror_mode": {
    "name": "ipython",
    "version": 3
   },
   "file_extension": ".py",
   "mimetype": "text/x-python",
   "name": "python",
   "nbconvert_exporter": "python",
   "pygments_lexer": "ipython3",
   "version": "3.6.4"
  }
 },
 "nbformat": 4,
 "nbformat_minor": 1
}
